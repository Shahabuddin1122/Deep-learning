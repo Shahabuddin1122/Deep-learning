{
 "cells": [
  {
   "cell_type": "code",
   "id": "initial_id",
   "metadata": {
    "collapsed": true,
    "ExecuteTime": {
     "end_time": "2024-06-23T15:25:17.219650Z",
     "start_time": "2024-06-23T15:25:01.258839Z"
    }
   },
   "source": [
    "import pandas as pd\n",
    "import numpy as np\n",
    "from sklearn.model_selection import train_test_split\n",
    "import tensorflow as tf\n",
    "from matplotlib import pyplot as plt\n",
    "import tensorflow_hub as hub"
   ],
   "outputs": [
    {
     "name": "stdout",
     "output_type": "stream",
     "text": [
      "WARNING:tensorflow:From C:\\Program Files\\Anaconda3\\Lib\\site-packages\\tf_keras\\src\\losses.py:2976: The name tf.losses.sparse_softmax_cross_entropy is deprecated. Please use tf.compat.v1.losses.sparse_softmax_cross_entropy instead.\n",
      "\n"
     ]
    }
   ],
   "execution_count": 1
  },
  {
   "metadata": {
    "ExecuteTime": {
     "end_time": "2024-06-23T15:32:14.674484Z",
     "start_time": "2024-06-23T15:32:14.605710Z"
    }
   },
   "cell_type": "code",
   "source": [
    "fake = pd.read_csv('fake.csv')\n",
    "fake.shape"
   ],
   "id": "6eaa07faa334a8ec",
   "outputs": [
    {
     "data": {
      "text/plain": [
       "(1339, 2)"
      ]
     },
     "execution_count": 2,
     "metadata": {},
     "output_type": "execute_result"
    }
   ],
   "execution_count": 2
  },
  {
   "metadata": {
    "ExecuteTime": {
     "end_time": "2024-06-23T15:32:17.014577Z",
     "start_time": "2024-06-23T15:32:16.710420Z"
    }
   },
   "cell_type": "code",
   "source": [
    "non_fake = pd.read_csv('non-fake.csv')\n",
    "non_fake = non_fake.sample(n=2000,random_state=10)"
   ],
   "id": "f4c813b00ec4e5a7",
   "outputs": [],
   "execution_count": 3
  },
  {
   "metadata": {
    "ExecuteTime": {
     "end_time": "2024-06-23T15:32:18.895067Z",
     "start_time": "2024-06-23T15:32:18.874287Z"
    }
   },
   "cell_type": "code",
   "source": [
    "dataset = pd.concat([fake,non_fake])\n",
    "dataset.sample(10)"
   ],
   "id": "5bcb05dde8c67e13",
   "outputs": [
    {
     "data": {
      "text/plain": [
       "                                                 Review  Label\n",
       "146   আম চুক্কা জাম চুক্কা\\nদেশী মুরগীর চাইনিজ প্লেট...      0\n",
       "7371  #প্রথম_ইফতার_ডানপ্রথম ইফতার সবাই একটু ভালো কিছ...      1\n",
       "2584  জন প্রতি ৪৯৯টাকায় বিশাল বড় স্টেক প্ল্যাটার এখ...      1\n",
       "1273  #৮০টাকা কমে যখন পিজ্জা হয় \\nতখন বলতেই হয় ভালো...      0\n",
       "358   \"Buy One Get One Free Offer\"\\n#sunday_monday_b...      0\n",
       "970   রাজা রাজ্য দখল করবে এটাই সাভাবিক,\\nকিন্তু বিগত...      0\n",
       "194   আসসালামু আলাইকুম সবাইকে ❤️\\nঅনেকেই বলেছিলেন ফু...      0\n",
       "724   Boyfriend এর সাথে ব্রেকাপ হইছে? আবার ৮০ হাজার ...      0\n",
       "6044  সাইকিলিং যারা নিয়মিত করে তাদের কাছে একটি পরিচি...      1\n",
       "744   ফেসবুকে দেখছিলাম যে সবাই খালি রেস্টুরেন্ট থেকে...      0"
      ],
      "text/html": [
       "<div>\n",
       "<style scoped>\n",
       "    .dataframe tbody tr th:only-of-type {\n",
       "        vertical-align: middle;\n",
       "    }\n",
       "\n",
       "    .dataframe tbody tr th {\n",
       "        vertical-align: top;\n",
       "    }\n",
       "\n",
       "    .dataframe thead th {\n",
       "        text-align: right;\n",
       "    }\n",
       "</style>\n",
       "<table border=\"1\" class=\"dataframe\">\n",
       "  <thead>\n",
       "    <tr style=\"text-align: right;\">\n",
       "      <th></th>\n",
       "      <th>Review</th>\n",
       "      <th>Label</th>\n",
       "    </tr>\n",
       "  </thead>\n",
       "  <tbody>\n",
       "    <tr>\n",
       "      <th>146</th>\n",
       "      <td>আম চুক্কা জাম চুক্কা\\nদেশী মুরগীর চাইনিজ প্লেট...</td>\n",
       "      <td>0</td>\n",
       "    </tr>\n",
       "    <tr>\n",
       "      <th>7371</th>\n",
       "      <td>#প্রথম_ইফতার_ডানপ্রথম ইফতার সবাই একটু ভালো কিছ...</td>\n",
       "      <td>1</td>\n",
       "    </tr>\n",
       "    <tr>\n",
       "      <th>2584</th>\n",
       "      <td>জন প্রতি ৪৯৯টাকায় বিশাল বড় স্টেক প্ল্যাটার এখ...</td>\n",
       "      <td>1</td>\n",
       "    </tr>\n",
       "    <tr>\n",
       "      <th>1273</th>\n",
       "      <td>#৮০টাকা কমে যখন পিজ্জা হয় \\nতখন বলতেই হয় ভালো...</td>\n",
       "      <td>0</td>\n",
       "    </tr>\n",
       "    <tr>\n",
       "      <th>358</th>\n",
       "      <td>\"Buy One Get One Free Offer\"\\n#sunday_monday_b...</td>\n",
       "      <td>0</td>\n",
       "    </tr>\n",
       "    <tr>\n",
       "      <th>970</th>\n",
       "      <td>রাজা রাজ্য দখল করবে এটাই সাভাবিক,\\nকিন্তু বিগত...</td>\n",
       "      <td>0</td>\n",
       "    </tr>\n",
       "    <tr>\n",
       "      <th>194</th>\n",
       "      <td>আসসালামু আলাইকুম সবাইকে ❤️\\nঅনেকেই বলেছিলেন ফু...</td>\n",
       "      <td>0</td>\n",
       "    </tr>\n",
       "    <tr>\n",
       "      <th>724</th>\n",
       "      <td>Boyfriend এর সাথে ব্রেকাপ হইছে? আবার ৮০ হাজার ...</td>\n",
       "      <td>0</td>\n",
       "    </tr>\n",
       "    <tr>\n",
       "      <th>6044</th>\n",
       "      <td>সাইকিলিং যারা নিয়মিত করে তাদের কাছে একটি পরিচি...</td>\n",
       "      <td>1</td>\n",
       "    </tr>\n",
       "    <tr>\n",
       "      <th>744</th>\n",
       "      <td>ফেসবুকে দেখছিলাম যে সবাই খালি রেস্টুরেন্ট থেকে...</td>\n",
       "      <td>0</td>\n",
       "    </tr>\n",
       "  </tbody>\n",
       "</table>\n",
       "</div>"
      ]
     },
     "execution_count": 4,
     "metadata": {},
     "output_type": "execute_result"
    }
   ],
   "execution_count": 4
  },
  {
   "metadata": {
    "ExecuteTime": {
     "end_time": "2024-06-23T15:32:24.923781Z",
     "start_time": "2024-06-23T15:32:24.830625Z"
    }
   },
   "cell_type": "code",
   "source": "dataset.to_csv('bangla_food_review.csv',index=False)",
   "id": "3e3567eb2cb905d4",
   "outputs": [],
   "execution_count": 5
  },
  {
   "metadata": {
    "ExecuteTime": {
     "end_time": "2024-06-23T15:33:31.100596Z",
     "start_time": "2024-06-23T15:32:52.998738Z"
    }
   },
   "cell_type": "code",
   "source": [
    "import spacy\n",
    "from spacy.lang.bn import Bengali"
   ],
   "id": "7eefb4a82871dcfd",
   "outputs": [],
   "execution_count": 6
  },
  {
   "metadata": {
    "ExecuteTime": {
     "end_time": "2024-06-23T15:47:49.189918Z",
     "start_time": "2024-06-23T15:47:49.183431Z"
    }
   },
   "cell_type": "code",
   "source": [
    "text = dataset[\"Review\"][0]\n",
    "text"
   ],
   "id": "2bc8cab56528c07d",
   "outputs": [
    {
     "data": {
      "text/plain": [
       "'।।।।।।।।।।।।Buy one get one Mexican  পাস্তা।।।।।।।।।।\\nগোপি আর কোকিলার  খালি কুকার এর ঝামেলা বাদ দিয়ে আসুন আমরা পাস্তা খাই। \\nযদি দুই জন hangout  এর জন্য প্লেস খুজেন তাহলে মিরপুর ৬০ ফিটের Food chemistry rooftop cafe তে আপনি সেই পরিবেশ পাবেন আর সাথে পাবেন  দুইজনের জন্য মাত্র ২৫০ টাকায় পারফেক্ট পাস্তা অফার। \\nযদি বলি টেস্ট এর কথা তবে আপনি চোখ বন্ধ করে বিশ্বাস রাখতে পারেন। \\nএই অফারে আপনি পাবেন ২টি Mexican oven pasta মাত্র ২৫০ টাকায়।\\nLocation :Food chemistry rooftop cafe (Mirpur 60 feet,beside chapra mosjid)\\nvalidity : 30/08/20 to 02/09/20'"
      ]
     },
     "execution_count": 25,
     "metadata": {},
     "output_type": "execute_result"
    }
   ],
   "execution_count": 25
  },
  {
   "metadata": {
    "ExecuteTime": {
     "end_time": "2024-06-23T15:38:00.422331Z",
     "start_time": "2024-06-23T15:38:00.328438Z"
    }
   },
   "cell_type": "code",
   "source": [
    "nlp = spacy.blank('bn')\n",
    "doc = nlp(text)\n",
    "\n",
    "for token in doc:\n",
    "    print(token)"
   ],
   "id": "21625e3239e2b7f5",
   "outputs": [
    {
     "name": "stdout",
     "output_type": "stream",
     "text": [
      "।\n",
      "।\n",
      "।\n",
      "।\n",
      "।\n",
      "।\n",
      "।\n",
      "।\n",
      "।\n",
      "।\n",
      "।\n",
      "।\n",
      "Buy\n",
      "one\n",
      "get\n",
      "one\n",
      "Mexican\n",
      " \n",
      "পাস্তা\n",
      "।\n",
      "।\n",
      "।\n",
      "।\n",
      "।\n",
      "।\n",
      "।\n",
      "।\n",
      "।\n",
      "।\n",
      "\n",
      "\n",
      "গোপি\n",
      "আর\n",
      "কোকিলার\n",
      " \n",
      "খালি\n",
      "কুকার\n",
      "এর\n",
      "ঝামেলা\n",
      "বাদ\n",
      "দিয়ে\n",
      "আসুন\n",
      "আমরা\n",
      "পাস্তা\n",
      "খাই\n",
      "।\n",
      "\n",
      "\n",
      "যদি\n",
      "দুই\n",
      "জন\n",
      "hangout\n",
      " \n",
      "এর\n",
      "জন্য\n",
      "প্লেস\n",
      "খুজেন\n",
      "তাহলে\n",
      "মিরপুর\n",
      "৬০\n",
      "ফিটের\n",
      "Food\n",
      "chemistry\n",
      "rooftop\n",
      "cafe\n",
      "তে\n",
      "আপনি\n",
      "সেই\n",
      "পরিবেশ\n",
      "পাবেন\n",
      "আর\n",
      "সাথে\n",
      "পাবেন\n",
      " \n",
      "দুইজনের\n",
      "জন্য\n",
      "মাত্র\n",
      "২৫০\n",
      "টাকায়\n",
      "পারফেক্ট\n",
      "পাস্তা\n",
      "অফার\n",
      "।\n",
      "\n",
      "\n",
      "যদি\n",
      "বলি\n",
      "টেস্ট\n",
      "এর\n",
      "কথা\n",
      "তবে\n",
      "আপনি\n",
      "চোখ\n",
      "বন্ধ\n",
      "করে\n",
      "বিশ্বাস\n",
      "রাখতে\n",
      "পারেন\n",
      "।\n",
      "\n",
      "\n",
      "এই\n",
      "অফারে\n",
      "আপনি\n",
      "পাবেন\n",
      "২টি\n",
      "Mexican\n",
      "oven\n",
      "pasta\n",
      "মাত্র\n",
      "২৫০\n",
      "টাকায়\n",
      "।\n",
      "\n",
      "\n",
      "Location\n",
      ":\n",
      "Food\n",
      "chemistry\n",
      "rooftop\n",
      "cafe\n",
      "(\n",
      "Mirpur\n",
      "60\n",
      "feet\n",
      ",\n",
      "beside\n",
      "chapra\n",
      "mosjid\n",
      ")\n",
      "\n",
      "\n",
      "validity\n",
      ":\n",
      "30/08/20\n",
      "to\n",
      "02/09/20\n"
     ]
    }
   ],
   "execution_count": 16
  },
  {
   "metadata": {
    "ExecuteTime": {
     "end_time": "2024-06-23T15:47:24.832576Z",
     "start_time": "2024-06-23T15:47:24.823787Z"
    }
   },
   "cell_type": "code",
   "source": [
    "t = [token.text for token in doc]\n",
    "t "
   ],
   "id": "594eb1b61b123bce",
   "outputs": [
    {
     "data": {
      "text/plain": [
       "['।',\n",
       " '।',\n",
       " '।',\n",
       " '।',\n",
       " '।',\n",
       " '।',\n",
       " '।',\n",
       " '।',\n",
       " '।',\n",
       " '।',\n",
       " '।',\n",
       " '।',\n",
       " 'Buy',\n",
       " 'one',\n",
       " 'get',\n",
       " 'one',\n",
       " 'Mexican',\n",
       " ' ',\n",
       " 'পাস্তা',\n",
       " '।',\n",
       " '।',\n",
       " '।',\n",
       " '।',\n",
       " '।',\n",
       " '।',\n",
       " '।',\n",
       " '।',\n",
       " '।',\n",
       " '।',\n",
       " '\\n',\n",
       " 'গোপি',\n",
       " 'আর',\n",
       " 'কোকিলার',\n",
       " ' ',\n",
       " 'খালি',\n",
       " 'কুকার',\n",
       " 'এর',\n",
       " 'ঝামেলা',\n",
       " 'বাদ',\n",
       " 'দিয়ে',\n",
       " 'আসুন',\n",
       " 'আমরা',\n",
       " 'পাস্তা',\n",
       " 'খাই',\n",
       " '।',\n",
       " '\\n',\n",
       " 'যদি',\n",
       " 'দুই',\n",
       " 'জন',\n",
       " 'hangout',\n",
       " ' ',\n",
       " 'এর',\n",
       " 'জন্য',\n",
       " 'প্লেস',\n",
       " 'খুজেন',\n",
       " 'তাহলে',\n",
       " 'মিরপুর',\n",
       " '৬০',\n",
       " 'ফিটের',\n",
       " 'Food',\n",
       " 'chemistry',\n",
       " 'rooftop',\n",
       " 'cafe',\n",
       " 'তে',\n",
       " 'আপনি',\n",
       " 'সেই',\n",
       " 'পরিবেশ',\n",
       " 'পাবেন',\n",
       " 'আর',\n",
       " 'সাথে',\n",
       " 'পাবেন',\n",
       " ' ',\n",
       " 'দুইজনের',\n",
       " 'জন্য',\n",
       " 'মাত্র',\n",
       " '২৫০',\n",
       " 'টাকায়',\n",
       " 'পারফেক্ট',\n",
       " 'পাস্তা',\n",
       " 'অফার',\n",
       " '।',\n",
       " '\\n',\n",
       " 'যদি',\n",
       " 'বলি',\n",
       " 'টেস্ট',\n",
       " 'এর',\n",
       " 'কথা',\n",
       " 'তবে',\n",
       " 'আপনি',\n",
       " 'চোখ',\n",
       " 'বন্ধ',\n",
       " 'করে',\n",
       " 'বিশ্বাস',\n",
       " 'রাখতে',\n",
       " 'পারেন',\n",
       " '।',\n",
       " '\\n',\n",
       " 'এই',\n",
       " 'অফারে',\n",
       " 'আপনি',\n",
       " 'পাবেন',\n",
       " '২টি',\n",
       " 'Mexican',\n",
       " 'oven',\n",
       " 'pasta',\n",
       " 'মাত্র',\n",
       " '২৫০',\n",
       " 'টাকায়',\n",
       " '।',\n",
       " '\\n',\n",
       " 'Location',\n",
       " ':',\n",
       " 'Food',\n",
       " 'chemistry',\n",
       " 'rooftop',\n",
       " 'cafe',\n",
       " '(',\n",
       " 'Mirpur',\n",
       " '60',\n",
       " 'feet',\n",
       " ',',\n",
       " 'beside',\n",
       " 'chapra',\n",
       " 'mosjid',\n",
       " ')',\n",
       " '\\n',\n",
       " 'validity',\n",
       " ':',\n",
       " '30/08/20',\n",
       " 'to',\n",
       " '02/09/20']"
      ]
     },
     "execution_count": 24,
     "metadata": {},
     "output_type": "execute_result"
    }
   ],
   "execution_count": 24
  },
  {
   "metadata": {
    "ExecuteTime": {
     "end_time": "2024-06-23T15:53:19.232870Z",
     "start_time": "2024-06-23T15:53:19.228456Z"
    }
   },
   "cell_type": "code",
   "source": "# nlp.add_pipe(\"sentencizer\")",
   "id": "eef8c07105fa7431",
   "outputs": [],
   "execution_count": 32
  },
  {
   "metadata": {
    "ExecuteTime": {
     "end_time": "2024-06-23T15:53:14.843292Z",
     "start_time": "2024-06-23T15:53:14.837601Z"
    }
   },
   "cell_type": "code",
   "source": [
    "# for sentence in doc.sents:\n",
    "#     print(sentence)"
   ],
   "id": "2510f825476071eb",
   "outputs": [],
   "execution_count": 31
  },
  {
   "metadata": {
    "ExecuteTime": {
     "end_time": "2024-06-23T15:53:25.556333Z",
     "start_time": "2024-06-23T15:53:25.552154Z"
    }
   },
   "cell_type": "code",
   "source": [
    "# x = dataset[\"Review\"]\n",
    "# y= dataset[\"Label\"]\n",
    "# x_train, x_test, y_train, y_test = train_test_split(x, y, test_size=0.2, random_state=10)"
   ],
   "id": "81226d4ebdecc6e1",
   "outputs": [],
   "execution_count": 33
  },
  {
   "metadata": {
    "ExecuteTime": {
     "end_time": "2024-06-23T15:56:08.034159Z",
     "start_time": "2024-06-23T15:56:08.027167Z"
    }
   },
   "cell_type": "code",
   "source": "t = nlp(text)",
   "id": "56f2321b9f1a5027",
   "outputs": [],
   "execution_count": 39
  },
  {
   "metadata": {
    "ExecuteTime": {
     "end_time": "2024-06-22T18:55:12.656181Z",
     "start_time": "2024-06-22T18:55:12.653134Z"
    }
   },
   "cell_type": "code",
   "source": "",
   "id": "c3a84a64ad02c7fd",
   "outputs": [],
   "execution_count": 39
  }
 ],
 "metadata": {
  "kernelspec": {
   "display_name": "Python 3",
   "language": "python",
   "name": "python3"
  },
  "language_info": {
   "codemirror_mode": {
    "name": "ipython",
    "version": 2
   },
   "file_extension": ".py",
   "mimetype": "text/x-python",
   "name": "python",
   "nbconvert_exporter": "python",
   "pygments_lexer": "ipython2",
   "version": "2.7.6"
  }
 },
 "nbformat": 4,
 "nbformat_minor": 5
}
