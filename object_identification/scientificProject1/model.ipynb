{
 "cells": [
  {
   "cell_type": "code",
   "id": "initial_id",
   "metadata": {
    "collapsed": true,
    "ExecuteTime": {
     "end_time": "2024-07-13T06:00:34.619850Z",
     "start_time": "2024-07-13T06:00:32.895039Z"
    }
   },
   "source": "!nvidia-smi",
   "outputs": [
    {
     "name": "stdout",
     "output_type": "stream",
     "text": [
      "Sat Jul 13 12:00:34 2024       \n",
      "+-----------------------------------------------------------------------------+\n",
      "| NVIDIA-SMI 512.78       Driver Version: 512.78       CUDA Version: 11.6     |\n",
      "|-------------------------------+----------------------+----------------------+\n",
      "| GPU  Name            TCC/WDDM | Bus-Id        Disp.A | Volatile Uncorr. ECC |\n",
      "| Fan  Temp  Perf  Pwr:Usage/Cap|         Memory-Usage | GPU-Util  Compute M. |\n",
      "|                               |                      |               MIG M. |\n",
      "|===============================+======================+======================|\n",
      "|   0  NVIDIA GeForce ... WDDM  | 00000000:01:00.0 Off |                  N/A |\n",
      "| N/A   50C    P0    25W /  N/A |      0MiB /  6144MiB |      0%      Default |\n",
      "|                               |                      |                  N/A |\n",
      "+-------------------------------+----------------------+----------------------+\n",
      "                                                                               \n",
      "+-----------------------------------------------------------------------------+\n",
      "| Processes:                                                                  |\n",
      "|  GPU   GI   CI        PID   Type   Process name                  GPU Memory |\n",
      "|        ID   ID                                                   Usage      |\n",
      "|=============================================================================|\n",
      "|  No running processes found                                                 |\n",
      "+-----------------------------------------------------------------------------+\n"
     ]
    }
   ],
   "execution_count": 1
  },
  {
   "metadata": {
    "ExecuteTime": {
     "end_time": "2024-07-13T06:01:14.068564Z",
     "start_time": "2024-07-13T06:01:14.065348Z"
    }
   },
   "cell_type": "code",
   "source": [
    "import os\n",
    "from pathlib import Path\n",
    "import logging"
   ],
   "id": "34d53e1076b4d6e",
   "outputs": [],
   "execution_count": 2
  },
  {
   "metadata": {
    "ExecuteTime": {
     "end_time": "2024-07-13T06:03:15.990155Z",
     "start_time": "2024-07-13T06:03:15.986558Z"
    }
   },
   "cell_type": "code",
   "source": "logging.basicConfig(level=logging.INFO,format='[%(asctime)s]: %(message)s:')",
   "id": "b54affe384ebec52",
   "outputs": [],
   "execution_count": 3
  },
  {
   "metadata": {
    "ExecuteTime": {
     "end_time": "2024-07-13T06:15:53.150517Z",
     "start_time": "2024-07-13T06:15:53.146796Z"
    }
   },
   "cell_type": "code",
   "source": "project_name = \"signLanguage\"",
   "id": "721c883d6fbf9a7f",
   "outputs": [],
   "execution_count": 5
  },
  {
   "metadata": {
    "ExecuteTime": {
     "end_time": "2024-07-13T06:15:53.712913Z",
     "start_time": "2024-07-13T06:15:53.707769Z"
    }
   },
   "cell_type": "code",
   "source": [
    "list_of_file = [\n",
    "    \"data/.gitkeep\",\n",
    "    f\"{project_name}/__init__.py\",\n",
    "    f\"{project_name}/components/__init__.py\",\n",
    "    f\"{project_name}/components/data_ingestion.py\",\n",
    "    f\"{project_name}/components/data_validation.py\",\n",
    "    f\"{project_name}/components/model_trainer.py\",\n",
    "    f\"{project_name}/components/model_pusher.py\",\n",
    "    f\"{project_name}/configuration/__init__.py\",\n",
    "    f\"{project_name}/configuration/s3_operations.py\",\n",
    "    f\"{project_name}/constant/__init__.py\",\n",
    "    f\"{project_name}/constant/training_pipeline/__init__.py\",\n",
    "    f\"{project_name}/constant/application.py\",\n",
    "    f\"{project_name}/entity/__init__.py\",\n",
    "    f\"{project_name}/entity/artifacts_entity.py\",\n",
    "    f\"{project_name}/entity/config_entity.py\",\n",
    "    f\"{project_name}/exception/__init__.py\",\n",
    "    f\"{project_name}/logger/__init__.py\",\n",
    "    f\"{project_name}/pipeline/__init__.py\",\n",
    "    f\"{project_name}/pipeline/training_pipeline.py\",\n",
    "    f\"{project_name}/util/__init__.py\",\n",
    "    f\"{project_name}/util/main_utils.py\",\n",
    "    \"template/index.html\",\n",
    "    \".dockerignore\",\n",
    "    \"app.py\",\n",
    "    \"Dockerfile\",\n",
    "    \"requirements.txt\",\n",
    "    \"setup.py\",\n",
    "]"
   ],
   "id": "30c87c95ea144887",
   "outputs": [],
   "execution_count": 6
  },
  {
   "metadata": {
    "ExecuteTime": {
     "end_time": "2024-07-13T06:19:28.029478Z",
     "start_time": "2024-07-13T06:19:27.981818Z"
    }
   },
   "cell_type": "code",
   "source": [
    "for file_path in list_of_file:\n",
    "    filepath = Path(file_path)\n",
    "    filedir,filename = os.path.split(filepath)\n",
    "    \n",
    "    if filedir != \"\":\n",
    "        os.makedirs(filedir,exist_ok=True)\n",
    "        logging.info(f\"Creating directory: {filedir} for the file: {filename}\")\n",
    "    \n",
    "    if(not os.path.exists(file_path)) or (os.path.getsize(file_path) == 0):\n",
    "        with open(file_path,\"w\") as file:\n",
    "            pass\n",
    "            logging.info(f\"Creating empty file: {filename}\")\n",
    "        \n",
    "    else:\n",
    "        logging.info(f\"File already exists: {filename}\")"
   ],
   "id": "a8bf06c6fdeaa8d",
   "outputs": [
    {
     "name": "stderr",
     "output_type": "stream",
     "text": [
      "[2024-07-13 12:19:27,985]: Creating directory: data for the file: .gitkeep:\n",
      "[2024-07-13 12:19:27,986]: Creating empty file: .gitkeep:\n",
      "[2024-07-13 12:19:27,986]: Creating directory: signLanguage for the file: __init__.py:\n",
      "[2024-07-13 12:19:27,987]: Creating empty file: __init__.py:\n",
      "[2024-07-13 12:19:27,988]: Creating directory: signLanguage\\components for the file: __init__.py:\n",
      "[2024-07-13 12:19:27,989]: Creating empty file: __init__.py:\n",
      "[2024-07-13 12:19:27,990]: Creating directory: signLanguage\\components for the file: data_ingestion.py:\n",
      "[2024-07-13 12:19:27,990]: Creating empty file: data_ingestion.py:\n",
      "[2024-07-13 12:19:27,991]: Creating directory: signLanguage\\components for the file: data_validation.py:\n",
      "[2024-07-13 12:19:27,991]: Creating empty file: data_validation.py:\n",
      "[2024-07-13 12:19:27,993]: Creating directory: signLanguage\\components for the file: model_trainer.py:\n",
      "[2024-07-13 12:19:27,994]: Creating empty file: model_trainer.py:\n",
      "[2024-07-13 12:19:27,995]: Creating directory: signLanguage\\components for the file: model_pusher.py:\n",
      "[2024-07-13 12:19:27,996]: Creating empty file: model_pusher.py:\n",
      "[2024-07-13 12:19:27,996]: Creating directory: signLanguage\\configuration for the file: __init__.py:\n",
      "[2024-07-13 12:19:27,997]: Creating empty file: __init__.py:\n",
      "[2024-07-13 12:19:27,998]: Creating directory: signLanguage\\configuration for the file: s3_operations.py:\n",
      "[2024-07-13 12:19:27,999]: Creating empty file: s3_operations.py:\n",
      "[2024-07-13 12:19:28,000]: Creating directory: signLanguage\\constant for the file: __init__.py:\n",
      "[2024-07-13 12:19:28,001]: Creating empty file: __init__.py:\n",
      "[2024-07-13 12:19:28,002]: Creating directory: signLanguage\\constant\\training_pipeline for the file: __init__.py:\n",
      "[2024-07-13 12:19:28,003]: Creating empty file: __init__.py:\n",
      "[2024-07-13 12:19:28,004]: Creating directory: signLanguage\\constant for the file: application.py:\n",
      "[2024-07-13 12:19:28,005]: Creating empty file: application.py:\n",
      "[2024-07-13 12:19:28,006]: Creating directory: signLanguage\\entity for the file: __init__.py:\n",
      "[2024-07-13 12:19:28,006]: Creating empty file: __init__.py:\n",
      "[2024-07-13 12:19:28,007]: Creating directory: signLanguage\\entity for the file: artifacts_entity.py:\n",
      "[2024-07-13 12:19:28,009]: Creating empty file: artifacts_entity.py:\n",
      "[2024-07-13 12:19:28,009]: Creating directory: signLanguage\\entity for the file: config_entity.py:\n",
      "[2024-07-13 12:19:28,010]: Creating empty file: config_entity.py:\n",
      "[2024-07-13 12:19:28,011]: Creating directory: signLanguage\\exception for the file: __init__.py:\n",
      "[2024-07-13 12:19:28,012]: Creating empty file: __init__.py:\n",
      "[2024-07-13 12:19:28,013]: Creating directory: signLanguage\\logger for the file: __init__.py:\n",
      "[2024-07-13 12:19:28,014]: Creating empty file: __init__.py:\n",
      "[2024-07-13 12:19:28,015]: Creating directory: signLanguage\\pipeline for the file: __init__.py:\n",
      "[2024-07-13 12:19:28,016]: Creating empty file: __init__.py:\n",
      "[2024-07-13 12:19:28,016]: Creating directory: signLanguage\\pipeline for the file: training_pipeline.py:\n",
      "[2024-07-13 12:19:28,017]: Creating empty file: training_pipeline.py:\n",
      "[2024-07-13 12:19:28,018]: Creating directory: signLanguage\\util for the file: __init__.py:\n",
      "[2024-07-13 12:19:28,019]: Creating empty file: __init__.py:\n",
      "[2024-07-13 12:19:28,019]: Creating directory: signLanguage\\util for the file: main_utils.py:\n",
      "[2024-07-13 12:19:28,020]: Creating empty file: main_utils.py:\n",
      "[2024-07-13 12:19:28,021]: Creating directory: template for the file: index.html:\n",
      "[2024-07-13 12:19:28,021]: Creating empty file: index.html:\n",
      "[2024-07-13 12:19:28,023]: Creating empty file: .dockerignore:\n",
      "[2024-07-13 12:19:28,024]: Creating empty file: app.py:\n",
      "[2024-07-13 12:19:28,025]: Creating empty file: Dockerfile:\n",
      "[2024-07-13 12:19:28,026]: Creating empty file: requirements.txt:\n",
      "[2024-07-13 12:19:28,027]: Creating empty file: setup.py:\n"
     ]
    }
   ],
   "execution_count": 7
  },
  {
   "metadata": {},
   "cell_type": "code",
   "outputs": [],
   "execution_count": null,
   "source": "",
   "id": "fecb5ce029b987c2"
  }
 ],
 "metadata": {
  "kernelspec": {
   "display_name": "Python 3",
   "language": "python",
   "name": "python3"
  },
  "language_info": {
   "codemirror_mode": {
    "name": "ipython",
    "version": 2
   },
   "file_extension": ".py",
   "mimetype": "text/x-python",
   "name": "python",
   "nbconvert_exporter": "python",
   "pygments_lexer": "ipython2",
   "version": "2.7.6"
  }
 },
 "nbformat": 4,
 "nbformat_minor": 5
}
